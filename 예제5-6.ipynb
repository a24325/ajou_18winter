{
 "cells": [
  {
   "cell_type": "code",
   "execution_count": 7,
   "metadata": {
    "collapsed": false
   },
   "outputs": [
    {
     "name": "stdout",
     "output_type": "stream",
     "text": [
      "현재 신호를 입력하시오: go\n",
      "OK! 진행합니다.\n"
     ]
    }
   ],
   "source": [
    "# 5. while 반복문을 사용하는 신호등 예제\n",
    "sign= 'stop'\n",
    "while sign=='stop':\n",
    "    sign= input('현재 신호를 입력하시오: ')\n",
    "print(\"OK! 진행합니다.\")"
   ]
  },
  {
   "cell_type": "code",
   "execution_count": 2,
   "metadata": {
    "collapsed": false
   },
   "outputs": [
    {
     "name": "stdout",
     "output_type": "stream",
     "text": [
      "어디까지 계산할까요?: 13\n",
      "1부터 13 까지의 정수의 합= 91\n"
     ]
    }
   ],
   "source": [
    "# 6. while, for 반복문을 이용한 정수합, 팩토리얼\n",
    "# for 정수합\n",
    "sum=0\n",
    "n=int(input('어디까지 계산할까요?: '))\n",
    "for x in range(1,n+1):\n",
    "    sum= sum+x\n",
    "print(\"1부터\",n,\"까지의 정수의 합=\",sum)"
   ]
  },
  {
   "cell_type": "code",
   "execution_count": 3,
   "metadata": {
    "collapsed": false
   },
   "outputs": [
    {
     "name": "stdout",
     "output_type": "stream",
     "text": [
      "어디까지 계산할까요?: 13\n",
      "1부터 13 까지의 정수의 합= 91\n"
     ]
    }
   ],
   "source": [
    "# while 정수합\n",
    "i=1\n",
    "sum=0\n",
    "limit=int(input('어디까지 계산할까요?: '))\n",
    "while i<=limit:\n",
    "    sum= sum+i\n",
    "    i=i+1\n",
    "print('1부터', limit, '까지의 정수의 합=',sum)"
   ]
  },
  {
   "cell_type": "code",
   "execution_count": 5,
   "metadata": {
    "collapsed": false
   },
   "outputs": [
    {
     "name": "stdout",
     "output_type": "stream",
     "text": [
      "정수를 입력하시오: 5\n",
      "5 !은 120.0 이다.\n"
     ]
    }
   ],
   "source": [
    "# for 팩토리얼\n",
    "fact=1.0\n",
    "n=int(input('정수를 입력하시오: '))\n",
    "for i in range(1,n+1):\n",
    "    fact=fact*i\n",
    "print(n,'!은',fact,'이다.')"
   ]
  },
  {
   "cell_type": "code",
   "execution_count": 6,
   "metadata": {
    "collapsed": false
   },
   "outputs": [
    {
     "name": "stdout",
     "output_type": "stream",
     "text": [
      "정수를 입력하시오: 5\n",
      "5 !은 120 이다.\n"
     ]
    }
   ],
   "source": [
    "# while 팩토리얼\n",
    "i=1\n",
    "fact=1\n",
    "n=int(input('정수를 입력하시오: '))\n",
    "while i<=n:\n",
    "    fact= fact*i\n",
    "    i=i+1\n",
    "print(n,'!은',fact,'이다.')"
   ]
  },
  {
   "cell_type": "code",
   "execution_count": null,
   "metadata": {
    "collapsed": true
   },
   "outputs": [],
   "source": []
  }
 ],
 "metadata": {
  "kernelspec": {
   "display_name": "Python 3",
   "language": "python",
   "name": "python3"
  },
  "language_info": {
   "codemirror_mode": {
    "name": "ipython",
    "version": 3
   },
   "file_extension": ".py",
   "mimetype": "text/x-python",
   "name": "python",
   "nbconvert_exporter": "python",
   "pygments_lexer": "ipython3",
   "version": "3.5.1"
  }
 },
 "nbformat": 4,
 "nbformat_minor": 0
}
